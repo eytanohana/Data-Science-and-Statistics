{
 "cells": [
  {
   "cell_type": "markdown",
   "metadata": {},
   "source": [
    "# Confidence Intervals\n",
    "<hr>\n",
    "\n",
    "A confidence interval is a range is which we are confident to a certain degree that a specific population parameter will fall. \n",
    "\n",
    "For example, according to [glassdoor](https://www.glassdoor.com/Salaries/data-scientist-salary-SRCH_KO0,14.htm), as of April 7th 2020, the mean salary for data scientists is \\\\$113,309. Now obviously glassdoor hasn't polled every working data scientist that exists to get to this number, meaning \\\\$113,309 is an estimate of the true mean.\n",
    "\n",
    "So if we were to construct a 95% CI for this average and (just making up the numbers) got \\\\$100,000 - \\\\$115,000. This means that if we were to poll many times the average salary of __random__ samples of data scientists, than in 95% of those cases we would get an average salary that falls in that range.\n",
    "\n",
    "Please note most of the data used in this notebook for the examples originates from [this udemy course](https://www.udemy.com/course/the-data-science-course-complete-data-science-bootcamp/). I highly recommend it!"
   ]
  },
  {
   "cell_type": "code",
   "execution_count": 2,
   "metadata": {},
   "outputs": [],
   "source": [
    "import pandas as pd\n",
    "import numpy as np\n",
    "# we'll use both a normal distribution and a students T distribution\n",
    "from scipy.stats import norm, t"
   ]
  },
  {
   "cell_type": "markdown",
   "metadata": {},
   "source": [
    "## General notes\n",
    "\n",
    "__Note:__ In this notebook every $\\sigma$ represents a population standard deviation while $s$ represents a sample standard deviation. Also $\\mu$ generally denotes the mean of some population, while $\\bar{x}$ denotes a sample mean.\n",
    "\n",
    "CI's can either be two-sided or one-sided. A two sided CI means a population parameter falls in between two values i.e.\n",
    "\n",
    "$$\n",
    "\\mu \\in \\bar{x} \\pm \\text{ME}\n",
    "$$\n",
    "\n",
    "while a one sided CI could either mean \n",
    "$$\n",
    "\\mu \\le \\bar{x} + \\text{ME} \\\\\n",
    "\\mu \\ge \\bar{x} + \\text{ME}\n",
    "$$\n",
    "\n",
    "where $\\text{ME}$ = Margin of Error.\n",
    "\n",
    "Another thing to be aware of in calculating CI's is when to use a Z (normal) distribution or a T distribution. In general when the population variance is known or the data you have is sufficiently big enough (usually 30+ samples is a good rule of thumb) you use a Z distribution. Otherwise use a T distribution which is meant for smaller amounts of data.\n",
    "\n",
    "Lastly when using a T distribution you need to specify how many [Degrees of Freedom](https://en.wikipedia.org/wiki/Degrees_of_freedom_(statistics)) it has. \n",
    "\n",
    "Which in general is just $\\text{the number of data points in the set} - 1$.\n",
    "\n",
    "Now let's get into it."
   ]
  },
  {
   "cell_type": "markdown",
   "metadata": {},
   "source": [
    "## Population variance known\n",
    "\n",
    "$$\n",
    "\\large \\bar{x} \\pm z_{\\alpha/2} * \\frac{\\sigma}{\\sqrt{n}}\n",
    "$$\n",
    "Let's break this down:\n",
    "\n",
    "    α is known as the confidence level and is just 1 - confidence. For a confidence of 90%, α = 10% or 0.1, for a  confidence of 95%, α = 0.05, and for a confidence of 99%, α = 0.01\n",
    "    \n",
    "    n is the number of samples in our data.\n",
    "\n",
    "Let's calculate a 95% CI using a dataset with the salaries of 70 data scientists. __We'll assume for the sake of this example that the population standard deviation is $15,000__"
   ]
  },
  {
   "cell_type": "code",
   "execution_count": 3,
   "metadata": {},
   "outputs": [
    {
     "name": "stdout",
     "output_type": "stream",
     "text": [
      "There are 70 samples in the dataset.\n"
     ]
    },
    {
     "data": {
      "text/html": [
       "<div>\n",
       "<style scoped>\n",
       "    .dataframe tbody tr th:only-of-type {\n",
       "        vertical-align: middle;\n",
       "    }\n",
       "\n",
       "    .dataframe tbody tr th {\n",
       "        vertical-align: top;\n",
       "    }\n",
       "\n",
       "    .dataframe thead th {\n",
       "        text-align: right;\n",
       "    }\n",
       "</style>\n",
       "<table border=\"1\" class=\"dataframe\">\n",
       "  <thead>\n",
       "    <tr style=\"text-align: right;\">\n",
       "      <th></th>\n",
       "      <th>Salaries</th>\n",
       "    </tr>\n",
       "  </thead>\n",
       "  <tbody>\n",
       "    <tr>\n",
       "      <th>0</th>\n",
       "      <td>120643</td>\n",
       "    </tr>\n",
       "    <tr>\n",
       "      <th>1</th>\n",
       "      <td>131248</td>\n",
       "    </tr>\n",
       "    <tr>\n",
       "      <th>2</th>\n",
       "      <td>108833</td>\n",
       "    </tr>\n",
       "    <tr>\n",
       "      <th>3</th>\n",
       "      <td>127776</td>\n",
       "    </tr>\n",
       "    <tr>\n",
       "      <th>4</th>\n",
       "      <td>114564</td>\n",
       "    </tr>\n",
       "    <tr>\n",
       "      <th>...</th>\n",
       "      <td>...</td>\n",
       "    </tr>\n",
       "    <tr>\n",
       "      <th>65</th>\n",
       "      <td>112276</td>\n",
       "    </tr>\n",
       "    <tr>\n",
       "      <th>66</th>\n",
       "      <td>85927</td>\n",
       "    </tr>\n",
       "    <tr>\n",
       "      <th>67</th>\n",
       "      <td>102848</td>\n",
       "    </tr>\n",
       "    <tr>\n",
       "      <th>68</th>\n",
       "      <td>121200</td>\n",
       "    </tr>\n",
       "    <tr>\n",
       "      <th>69</th>\n",
       "      <td>111742</td>\n",
       "    </tr>\n",
       "  </tbody>\n",
       "</table>\n",
       "<p>70 rows × 1 columns</p>\n",
       "</div>"
      ],
      "text/plain": [
       "    Salaries\n",
       "0     120643\n",
       "1     131248\n",
       "2     108833\n",
       "3     127776\n",
       "4     114564\n",
       "..       ...\n",
       "65    112276\n",
       "66     85927\n",
       "67    102848\n",
       "68    121200\n",
       "69    111742\n",
       "\n",
       "[70 rows x 1 columns]"
      ]
     },
     "execution_count": 3,
     "metadata": {},
     "output_type": "execute_result"
    }
   ],
   "source": [
    "data = pd.read_csv('data/salaries_extended.csv')\n",
    "print(f'There are {len(data)} samples in the dataset.')\n",
    "data"
   ]
  },
  {
   "cell_type": "code",
   "execution_count": 15,
   "metadata": {},
   "outputs": [
    {
     "name": "stdout",
     "output_type": "stream",
     "text": [
      "The sample mean salary is $92,533.33\n",
      "The population standard deviation is $15,000\n",
      "The z-score for a 95% CI is 1.96\n",
      "\n",
      "=============================================\n",
      "\n",
      "The 95% CI ranges from $82,733.51 to $102,333.15\n"
     ]
    }
   ],
   "source": [
    "# In jupyter you can easily type \n",
    "# any greek symbol like α by typing\n",
    "# \\alpha and hitting the tab key.\n",
    "α = 0.05\n",
    "n = len(data)\n",
    "\n",
    "mean_salary = data.Salaries.mean()\n",
    "σ = 15_000\n",
    "\n",
    "print(f'The sample mean salary is ${mean_salary:,.2f}')\n",
    "print(f'The population standard deviation is ${σ:,}')\n",
    "\n",
    "# note we're using a normal distribution\n",
    "# ppf is just the inverse of the cdf\n",
    "z_score = norm.ppf(1-α/2)\n",
    "print(f'The z-score for a {int((1-α)*100)}% CI is {z_score:.2f}')\n",
    "\n",
    "print('\\n', '='*45, '\\n', sep='')\n",
    "\n",
    "lower_bound = mean_salary - z_score * σ / np.sqrt(n)\n",
    "upper_bound = mean_salary + z_score * σ / np.sqrt(n)\n",
    "\n",
    "print(f'The {int((1-α)*100)}% CI ranges from ${lower_bound:,.2f} to ${upper_bound:,.2f}')"
   ]
  },
  {
   "cell_type": "markdown",
   "metadata": {},
   "source": [
    "We see for a 95% CI we get \\\\$109,795.09 to \\\\$116,822.91 this means that we are __confident__ that in 95% of the time the true mean will fall in this range. It doesn't mean that exactly 95% of the time that will happen just that we are confident that it will.\n",
    "\n",
    "Also note even though the formula says $z_{\\alpha/2}$ in practice we use $z_{1-\\alpha/2}$ because\n",
    "$$\\large z_{1-\\alpha/2} = -z_{\\alpha/2} $$\n",
    "\n",
    "This is true because a normal distribution is symmetric around its mean. Using either one yields the same result but using $z_{\\alpha/2}$, you'd have to swap the `lower_bound` and `upper_bound` variables."
   ]
  },
  {
   "cell_type": "markdown",
   "metadata": {},
   "source": [
    "## Population variance unknown\n",
    "\n",
    "Since we don't know the population variance and the dataset is pretty small, we use a Student's t distribution.\n",
    "Also because we don't know the population variance we need to estimate the standard deviation using the sample standard deviation $s$.\n",
    "$$\n",
    "\\large \\mu \\in \\bar{x} \\pm t_{n-1,\\alpha/2} * \\frac{s}{\\sqrt{n}}\n",
    "$$\n",
    "\n",
    "$t_{n-1,\\alpha/2}$ indicates a t-score from a t distribution with $n - 1$ degrees of freedom and a cdf value of $\\alpha/2$\n",
    "<hr>\n",
    "Recall the difference between population standard deviation $\\sigma$ and the sample standard deviation $s$:\n",
    "\n",
    "$$\n",
    "\\sigma = \\sqrt \\frac{\\Sigma_{i=1}^n (x_i - \\mu)^2}{n} \\;\\;\\;\\;\\;,\\;\\;\\;\\;\\;   \n",
    "s = \\sqrt \\frac{\\Sigma_{i=1}^n (x_i - \\bar x)^2}{n-1}\n",
    "$$\n",
    "where $x_i$ is each value in the population, $\\mu$ is the mean, $\\bar x$ is the sample mean, and $n$ is the number of values.\n"
   ]
  },
  {
   "cell_type": "code",
   "execution_count": 5,
   "metadata": {},
   "outputs": [
    {
     "data": {
      "text/html": [
       "<div>\n",
       "<style scoped>\n",
       "    .dataframe tbody tr th:only-of-type {\n",
       "        vertical-align: middle;\n",
       "    }\n",
       "\n",
       "    .dataframe tbody tr th {\n",
       "        vertical-align: top;\n",
       "    }\n",
       "\n",
       "    .dataframe thead th {\n",
       "        text-align: right;\n",
       "    }\n",
       "</style>\n",
       "<table border=\"1\" class=\"dataframe\">\n",
       "  <thead>\n",
       "    <tr style=\"text-align: right;\">\n",
       "      <th></th>\n",
       "      <th>Salaries</th>\n",
       "    </tr>\n",
       "  </thead>\n",
       "  <tbody>\n",
       "    <tr>\n",
       "      <th>0</th>\n",
       "      <td>78000</td>\n",
       "    </tr>\n",
       "    <tr>\n",
       "      <th>1</th>\n",
       "      <td>90000</td>\n",
       "    </tr>\n",
       "    <tr>\n",
       "      <th>2</th>\n",
       "      <td>75000</td>\n",
       "    </tr>\n",
       "    <tr>\n",
       "      <th>3</th>\n",
       "      <td>117000</td>\n",
       "    </tr>\n",
       "    <tr>\n",
       "      <th>4</th>\n",
       "      <td>105000</td>\n",
       "    </tr>\n",
       "    <tr>\n",
       "      <th>5</th>\n",
       "      <td>96000</td>\n",
       "    </tr>\n",
       "    <tr>\n",
       "      <th>6</th>\n",
       "      <td>89500</td>\n",
       "    </tr>\n",
       "    <tr>\n",
       "      <th>7</th>\n",
       "      <td>102300</td>\n",
       "    </tr>\n",
       "    <tr>\n",
       "      <th>8</th>\n",
       "      <td>80000</td>\n",
       "    </tr>\n",
       "  </tbody>\n",
       "</table>\n",
       "</div>"
      ],
      "text/plain": [
       "   Salaries\n",
       "0     78000\n",
       "1     90000\n",
       "2     75000\n",
       "3    117000\n",
       "4    105000\n",
       "5     96000\n",
       "6     89500\n",
       "7    102300\n",
       "8     80000"
      ]
     },
     "execution_count": 5,
     "metadata": {},
     "output_type": "execute_result"
    }
   ],
   "source": [
    "data = pd.read_csv('data/salaries_popvar_unknown.csv')\n",
    "data"
   ]
  },
  {
   "cell_type": "code",
   "execution_count": 16,
   "metadata": {},
   "outputs": [
    {
     "name": "stdout",
     "output_type": "stream",
     "text": [
      "13931.887883556916\n",
      "13931.887883556918\n"
     ]
    }
   ],
   "source": [
    "α = 0.05\n",
    "n = len(data)\n",
    "\n",
    "mean_salary = data.Salaries.mean()\n",
    "# we can calculate the sample std by hand\n",
    "sample_var = np.square(data.Salaries - mean_salary).sum() / (n - 1)\n",
    "s = np.sqrt(sample_var)\n",
    "\n",
    "print(s)\n",
    "# or just have pandas do it for us\n",
    "print(data.Salaries.std())"
   ]
  },
  {
   "cell_type": "code",
   "execution_count": 26,
   "metadata": {},
   "outputs": [
    {
     "name": "stdout",
     "output_type": "stream",
     "text": [
      "The sample mean salary is $92,533.33\n",
      "The sample standard deviation of the salaries is $13,931.89\n",
      "The t-score for a 95% CI is 2.31\n",
      "\n",
      "=============================================\n",
      "\n",
      "The 95% CI ranges from $81,824.34 to $103,242.33\n"
     ]
    }
   ],
   "source": [
    "print(f'The sample mean salary is ${mean_salary:,.2f}')\n",
    "print(f'The sample standard deviation of the salaries is ${s:,.2f}')\n",
    "\n",
    "# note we're using a t distribution\n",
    "t_score = t.ppf(1-α/2, df=n-1)\n",
    "print(f'The t-score for a {int((1-α)*100)}% CI is {t_score:.2f}')\n",
    "\n",
    "print('\\n', '='*45, '\\n', sep='')\n",
    "\n",
    "lower_bound = mean_salary - t_score * s / np.sqrt(n)\n",
    "upper_bound = mean_salary + t_score * s / np.sqrt(n)\n",
    "\n",
    "print(f'The {int((1-α)*100)}% CI ranges from ${lower_bound:,.2f} to ${upper_bound:,.2f}')"
   ]
  },
  {
   "cell_type": "code",
   "execution_count": null,
   "metadata": {},
   "outputs": [],
   "source": []
  }
 ],
 "metadata": {
  "kernelspec": {
   "display_name": "Python 3",
   "language": "python",
   "name": "python3"
  },
  "language_info": {
   "codemirror_mode": {
    "name": "ipython",
    "version": 3
   },
   "file_extension": ".py",
   "mimetype": "text/x-python",
   "name": "python",
   "nbconvert_exporter": "python",
   "pygments_lexer": "ipython3",
   "version": "3.7.1"
  }
 },
 "nbformat": 4,
 "nbformat_minor": 2
}
