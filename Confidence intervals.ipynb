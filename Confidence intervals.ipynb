{
 "cells": [
  {
   "cell_type": "markdown",
   "metadata": {},
   "source": [
    "# Confidence Intervals\n",
    "<hr>\n",
    "\n",
    "A confidence interval is a range is which we are confident to a certain degree that a specific population parameter will fall. \n",
    "\n",
    "For example, according to [glassdoor](https://www.glassdoor.com/Salaries/data-scientist-salary-SRCH_KO0,14.htm), as of April 7th 2020, the mean salary for data scientists is \\\\$113,309. Now obviously glassdoor hasn't polled every working data scientist that exists to get to this number, meaning \\\\$113,309 is an estimate of the true mean.\n",
    "\n",
    "So if we were to construct a 95% CI for this average and (just making up the numbers) got \\\\$100,000 - \\\\$115,000. This means that if we were to poll many times the average salary of __random__ samples of data scientists, than in 95% of those cases we would get an average salary that falls in that range."
   ]
  },
  {
   "cell_type": "code",
   "execution_count": 2,
   "metadata": {},
   "outputs": [],
   "source": [
    "import pandas as pd\n",
    "import numpy as np\n",
    "# we'll use both a normal distribution and t distribution\n",
    "from scipy.stats import norm, t"
   ]
  },
  {
   "cell_type": "markdown",
   "metadata": {},
   "source": [
    "## General notes\n",
    "\n",
    "__Note:__ In this notebook every $\\sigma$ represents a population standard deviation while $s$ represents a sample standard deviation. Also $\\mu$ generally denotes the mean of some population, while $\\bar{x}$ denotes a sample mean.\n",
    "\n",
    "CI's can either be two-sided or one-sided. A two sided CI means a population parameter falls in between two values i.e.\n",
    "\n",
    "$$\n",
    "\\mu \\in \\bar{x} \\pm \\text{ME}\n",
    "$$\n",
    "\n",
    "while a one sided CI could either mean \n",
    "$$\n",
    "\\mu \\le \\bar{x} + \\text{ME} \\\\\n",
    "\\mu \\ge \\bar{x} + \\text{ME}\n",
    "$$\n",
    "\n",
    "where $\\text{ME}$ = Margin of Error.\n",
    "\n",
    "Another thing to be aware of in calculating CI's is when to use a Z (normal) distribution or a T distribution. In general when the population variance is known or the data you have is sufficiently big enough (usually 30+ samples is a good rule of thumb) you use a Z distribution. Otherwise use a T distribution which is meant for smaller amounts of data.\n",
    "\n",
    "Lastly when using a T distribution you need to specify how many [Degrees of Freedom](https://en.wikipedia.org/wiki/Degrees_of_freedom_(statistics)) it has. \n",
    "\n",
    "Which in general is just $\\text{the number of data points in the set} - 1$.\n",
    "\n",
    "Now let's get into it."
   ]
  },
  {
   "cell_type": "markdown",
   "metadata": {},
   "source": [
    "## Population variance known\n",
    "\n"
   ]
  },
  {
   "cell_type": "code",
   "execution_count": null,
   "metadata": {},
   "outputs": [],
   "source": []
  }
 ],
 "metadata": {
  "kernelspec": {
   "display_name": "Python 3",
   "language": "python",
   "name": "python3"
  },
  "language_info": {
   "codemirror_mode": {
    "name": "ipython",
    "version": 3
   },
   "file_extension": ".py",
   "mimetype": "text/x-python",
   "name": "python",
   "nbconvert_exporter": "python",
   "pygments_lexer": "ipython3",
   "version": "3.7.1"
  }
 },
 "nbformat": 4,
 "nbformat_minor": 2
}
