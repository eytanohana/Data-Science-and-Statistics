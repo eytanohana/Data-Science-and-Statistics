{
 "cells": [
  {
   "cell_type": "markdown",
   "metadata": {},
   "source": [
    "# Confidence Intervals\n",
    "<hr>\n",
    "\n",
    "A confidence interval is a range is which we are confident to a certain degree that a specific population parameter will fall. \n",
    "\n",
    "For example, according to [glassdoor](https://www.glassdoor.com/Salaries/data-scientist-salary-SRCH_KO0,14.htm), as of April 7th 2020, the mean salary for data scientists is \\\\$113,309. Now obviously glassdoor hasn't polled every working data scientist that exists to get to this number, meaning \\\\$113,309 is an estimate of the true mean.\n",
    "\n",
    "So if we were to construct a 95% CI for this average and (just making up the numbers) got \\\\$100,000 - \\\\$115,000. This means that if we were to poll many times the average salary of __random__ samples of data scientists, than in 95% of those cases we would get an average salary that falls in that range.\n",
    "\n",
    "Please note most of the data used in this notebook for the examples originates from [this udemy course](https://www.udemy.com/course/the-data-science-course-complete-data-science-bootcamp/). I highly recommend it!"
   ]
  },
  {
   "cell_type": "code",
   "execution_count": 58,
   "metadata": {},
   "outputs": [],
   "source": [
    "import pandas as pd\n",
    "import numpy as np\n",
    "# we'll use both a normal distribution and a students T distribution\n",
    "from scipy.stats import norm, t"
   ]
  },
  {
   "cell_type": "markdown",
   "metadata": {},
   "source": [
    "## General notes\n",
    "\n",
    "__Note:__ In this notebook every $\\sigma$ represents a population standard deviation while $s$ represents a sample standard deviation. Also $\\mu$ generally denotes the mean of some population, while $\\bar{x}$ denotes a sample mean.\n",
    "\n",
    "CI's can either be two-sided or one-sided. A two sided CI means a population parameter falls in between two values i.e.\n",
    "\n",
    "$$\n",
    "\\mu \\in \\bar{x} \\pm \\text{ME}\n",
    "$$\n",
    "\n",
    "while a one sided CI could either mean \n",
    "$$\n",
    "\\mu \\le \\bar{x} + \\text{ME} \\\\\n",
    "\\mu \\ge \\bar{x} + \\text{ME}\n",
    "$$\n",
    "\n",
    "where $\\text{ME}$ = Margin of Error.\n",
    "\n",
    "Another thing to be aware of in calculating CI's is when to use a Z (normal) distribution or a T distribution. In general when the population variance is known or the data you have is sufficiently big enough (usually 30+ samples is a good rule of thumb) you use a Z distribution. Otherwise use a T distribution which is meant for smaller amounts of data.\n",
    "\n",
    "Lastly when using a T distribution you need to specify how many [Degrees of Freedom](https://en.wikipedia.org/wiki/Degrees_of_freedom_(statistics)) it has. \n",
    "\n",
    "Which in general is just $\\text{the number of data points in the set} - 1$.\n",
    "\n",
    "Now let's get into it."
   ]
  },
  {
   "cell_type": "markdown",
   "metadata": {},
   "source": [
    "## CI - Population variance known\n",
    "\n",
    "$$\n",
    "\\large \\bar{x} \\pm z_{\\alpha/2} * \\frac{\\sigma}{\\sqrt{n}}\n",
    "$$\n",
    "Let's break this down:\n",
    "\n",
    "    α is known as the confidence level and is just 1 - confidence. For a confidence of 90%, α = 10% or 0.1, for a  confidence of 95%, α = 0.05, and for a confidence of 99%, α = 0.01\n",
    "    \n",
    "    n is the number of samples in our data.\n",
    "\n",
    "Let's calculate a 95% CI using a dataset with the salaries of 70 data scientists. __We'll assume for the sake of this example that the population salary standard deviation is $15,000.__"
   ]
  },
  {
   "cell_type": "code",
   "execution_count": 59,
   "metadata": {},
   "outputs": [
    {
     "name": "stdout",
     "output_type": "stream",
     "text": [
      "There are 70 samples in the dataset.\n"
     ]
    },
    {
     "data": {
      "text/html": [
       "<div>\n",
       "<style scoped>\n",
       "    .dataframe tbody tr th:only-of-type {\n",
       "        vertical-align: middle;\n",
       "    }\n",
       "\n",
       "    .dataframe tbody tr th {\n",
       "        vertical-align: top;\n",
       "    }\n",
       "\n",
       "    .dataframe thead th {\n",
       "        text-align: right;\n",
       "    }\n",
       "</style>\n",
       "<table border=\"1\" class=\"dataframe\">\n",
       "  <thead>\n",
       "    <tr style=\"text-align: right;\">\n",
       "      <th></th>\n",
       "      <th>Salaries</th>\n",
       "    </tr>\n",
       "  </thead>\n",
       "  <tbody>\n",
       "    <tr>\n",
       "      <th>0</th>\n",
       "      <td>120643</td>\n",
       "    </tr>\n",
       "    <tr>\n",
       "      <th>1</th>\n",
       "      <td>131248</td>\n",
       "    </tr>\n",
       "    <tr>\n",
       "      <th>2</th>\n",
       "      <td>108833</td>\n",
       "    </tr>\n",
       "    <tr>\n",
       "      <th>3</th>\n",
       "      <td>127776</td>\n",
       "    </tr>\n",
       "    <tr>\n",
       "      <th>4</th>\n",
       "      <td>114564</td>\n",
       "    </tr>\n",
       "    <tr>\n",
       "      <th>...</th>\n",
       "      <td>...</td>\n",
       "    </tr>\n",
       "    <tr>\n",
       "      <th>65</th>\n",
       "      <td>112276</td>\n",
       "    </tr>\n",
       "    <tr>\n",
       "      <th>66</th>\n",
       "      <td>85927</td>\n",
       "    </tr>\n",
       "    <tr>\n",
       "      <th>67</th>\n",
       "      <td>102848</td>\n",
       "    </tr>\n",
       "    <tr>\n",
       "      <th>68</th>\n",
       "      <td>121200</td>\n",
       "    </tr>\n",
       "    <tr>\n",
       "      <th>69</th>\n",
       "      <td>111742</td>\n",
       "    </tr>\n",
       "  </tbody>\n",
       "</table>\n",
       "<p>70 rows × 1 columns</p>\n",
       "</div>"
      ],
      "text/plain": [
       "    Salaries\n",
       "0     120643\n",
       "1     131248\n",
       "2     108833\n",
       "3     127776\n",
       "4     114564\n",
       "..       ...\n",
       "65    112276\n",
       "66     85927\n",
       "67    102848\n",
       "68    121200\n",
       "69    111742\n",
       "\n",
       "[70 rows x 1 columns]"
      ]
     },
     "execution_count": 59,
     "metadata": {},
     "output_type": "execute_result"
    }
   ],
   "source": [
    "data = pd.read_csv('data/salaries_extended.csv')\n",
    "print(f'There are {len(data)} samples in the dataset.')\n",
    "data"
   ]
  },
  {
   "cell_type": "code",
   "execution_count": 60,
   "metadata": {},
   "outputs": [
    {
     "name": "stdout",
     "output_type": "stream",
     "text": [
      "The sample mean salary is $113,309.00\n",
      "The population standard deviation is $15,000\n",
      "\n",
      "The z-score for a 95% CI is 1.96\n",
      "\n",
      "=============================================\n",
      "\n",
      "The 95% CI ranges from $109,795.09 to $116,822.91\n"
     ]
    }
   ],
   "source": [
    "# In jupyter you can easily type \n",
    "# any greek symbol like α by typing\n",
    "# \\alpha and hitting the tab key.\n",
    "α = 0.05\n",
    "n = len(data)\n",
    "\n",
    "mean_salary = data.Salaries.mean()\n",
    "σ = 15_000\n",
    "\n",
    "print(f'The sample mean salary is ${mean_salary:,.2f}')\n",
    "print(f'The population standard deviation is ${σ:,}')\n",
    "\n",
    "# note we're using a normal distribution\n",
    "# ppf is just the inverse of the cdf\n",
    "z_score = norm.ppf(1-α/2)\n",
    "print(f'\\nThe z-score for a {int((1-α)*100)}% CI is {z_score:.2f}')\n",
    "\n",
    "print('\\n', '='*45, '\\n', sep='')\n",
    "\n",
    "lower_bound = mean_salary - z_score * σ / np.sqrt(n)\n",
    "upper_bound = mean_salary + z_score * σ / np.sqrt(n)\n",
    "\n",
    "print(f'The {int((1-α)*100)}% CI ranges from ${lower_bound:,.2f} to ${upper_bound:,.2f}')"
   ]
  },
  {
   "cell_type": "markdown",
   "metadata": {},
   "source": [
    "We see for a 95% CI we get \\\\$109,795.09 to \\\\$116,822.91 this means that we are __confident__ that in 95% of the time the true mean will fall in this range. It doesn't mean that exactly 95% of the time that will happen just that we are confident that it will.\n",
    "\n",
    "Also note even though the formula says $z_{\\alpha/2}$ in practice we use $z_{1-\\alpha/2}$ because\n",
    "$$\\large z_{1-\\alpha/2} = -z_{\\alpha/2} $$\n",
    "\n",
    "This is true because a normal distribution is symmetric around its mean. Using either one yields the same result but using $z_{\\alpha/2}$, you'd have to swap the `lower_bound` and `upper_bound` variables.\n",
    "\n",
    "<br>\n",
    "\n",
    "<hr>\n",
    "\n",
    "## CI - Population variance unknown\n",
    "\n",
    "Since we don't know the population variance and the dataset is pretty small, we use a Student's t distribution.\n",
    "Also because we don't know the population variance we need to estimate the standard deviation using the sample standard deviation $s$.\n",
    "\n",
    "$$\n",
    "\\large \\mu \\in \\bar{x} \\pm t_{n-1,\\alpha/2} * \\frac{s}{\\sqrt{n}}\n",
    "$$\n",
    "\n",
    "$t_{n-1,\\alpha/2}$ indicates a t-score from a t distribution with $n - 1$ degrees of freedom and a cdf value of $\\alpha/2$\n",
    "\n",
    "Note: $s\\;/\\sqrt{n}$ is also known as the __standard error__.\n",
    "<hr>\n",
    "Recall the difference between population standard deviation $\\sigma$ and the sample standard deviation $s$:\n",
    "\n",
    "$$\n",
    "\\sigma = \\sqrt \\frac{\\Sigma_{i=1}^n (x_i - \\mu)^2}{n} \\;\\;\\;\\;\\;,\\;\\;\\;\\;\\;   \n",
    "s = \\sqrt \\frac{\\Sigma_{i=1}^n (x_i - \\bar x)^2}{n-1}\n",
    "$$\n",
    "where $x_i$ is each value in the population, $\\mu$ is the mean, $\\bar x$ is the sample mean, and $n$ is the number of values."
   ]
  },
  {
   "cell_type": "code",
   "execution_count": 61,
   "metadata": {},
   "outputs": [
    {
     "data": {
      "text/html": [
       "<div>\n",
       "<style scoped>\n",
       "    .dataframe tbody tr th:only-of-type {\n",
       "        vertical-align: middle;\n",
       "    }\n",
       "\n",
       "    .dataframe tbody tr th {\n",
       "        vertical-align: top;\n",
       "    }\n",
       "\n",
       "    .dataframe thead th {\n",
       "        text-align: right;\n",
       "    }\n",
       "</style>\n",
       "<table border=\"1\" class=\"dataframe\">\n",
       "  <thead>\n",
       "    <tr style=\"text-align: right;\">\n",
       "      <th></th>\n",
       "      <th>Salaries</th>\n",
       "    </tr>\n",
       "  </thead>\n",
       "  <tbody>\n",
       "    <tr>\n",
       "      <th>0</th>\n",
       "      <td>78000</td>\n",
       "    </tr>\n",
       "    <tr>\n",
       "      <th>1</th>\n",
       "      <td>90000</td>\n",
       "    </tr>\n",
       "    <tr>\n",
       "      <th>2</th>\n",
       "      <td>75000</td>\n",
       "    </tr>\n",
       "    <tr>\n",
       "      <th>3</th>\n",
       "      <td>117000</td>\n",
       "    </tr>\n",
       "    <tr>\n",
       "      <th>4</th>\n",
       "      <td>105000</td>\n",
       "    </tr>\n",
       "    <tr>\n",
       "      <th>5</th>\n",
       "      <td>96000</td>\n",
       "    </tr>\n",
       "    <tr>\n",
       "      <th>6</th>\n",
       "      <td>89500</td>\n",
       "    </tr>\n",
       "    <tr>\n",
       "      <th>7</th>\n",
       "      <td>102300</td>\n",
       "    </tr>\n",
       "    <tr>\n",
       "      <th>8</th>\n",
       "      <td>80000</td>\n",
       "    </tr>\n",
       "  </tbody>\n",
       "</table>\n",
       "</div>"
      ],
      "text/plain": [
       "   Salaries\n",
       "0     78000\n",
       "1     90000\n",
       "2     75000\n",
       "3    117000\n",
       "4    105000\n",
       "5     96000\n",
       "6     89500\n",
       "7    102300\n",
       "8     80000"
      ]
     },
     "execution_count": 61,
     "metadata": {},
     "output_type": "execute_result"
    }
   ],
   "source": [
    "data = pd.read_csv('data/salaries_popvar_unknown.csv')\n",
    "data"
   ]
  },
  {
   "cell_type": "code",
   "execution_count": 62,
   "metadata": {},
   "outputs": [
    {
     "name": "stdout",
     "output_type": "stream",
     "text": [
      "13931.887883556916\n",
      "13931.887883556918\n"
     ]
    }
   ],
   "source": [
    "# This time let's calculate a 99% CI\n",
    "α = 0.01\n",
    "n = len(data)\n",
    "\n",
    "mean_salary = data.Salaries.mean()\n",
    "\n",
    "# we can calculate the sample std by hand\n",
    "sample_var = np.square(data.Salaries - mean_salary).sum() / (n - 1)\n",
    "s = np.sqrt(sample_var)\n",
    "print(s)\n",
    "\n",
    "# or just have pandas do it for us\n",
    "print(data.Salaries.std())"
   ]
  },
  {
   "cell_type": "code",
   "execution_count": 63,
   "metadata": {},
   "outputs": [
    {
     "name": "stdout",
     "output_type": "stream",
     "text": [
      "The sample mean salary is $92,533.33\n",
      "The sample standard deviation of the salaries is $13,931.89\n",
      "\n",
      "The t-score for a 99% CI is 3.36\n",
      "\n",
      "=============================================\n",
      "\n",
      "The 99% CI ranges from $76,951.04 to $108,115.63\n"
     ]
    }
   ],
   "source": [
    "print(f'The sample mean salary is ${mean_salary:,.2f}')\n",
    "print(f'The sample standard deviation of the salaries is ${s:,.2f}')\n",
    "\n",
    "# note we're using a t distribution\n",
    "t_score = t.ppf(1-α/2, df=n-1)\n",
    "print(f'\\nThe t-score for a {int((1-α)*100)}% CI is {t_score:.2f}')\n",
    "\n",
    "print('\\n', '='*45, '\\n', sep='')\n",
    "\n",
    "lower_bound = mean_salary - t_score * s / np.sqrt(n)\n",
    "upper_bound = mean_salary + t_score * s / np.sqrt(n)\n",
    "\n",
    "print(f'The {int((1-α)*100)}% CI ranges from ${lower_bound:,.2f} to ${upper_bound:,.2f}')"
   ]
  },
  {
   "cell_type": "markdown",
   "metadata": {},
   "source": [
    "## CI - Mean of differences for dependent samples\n",
    "\n",
    "We'll start with an example: Let's say a medical group is testing the effectiveness of a new drug that's supposed to increase the levels of Magnesium in a person. They measured each patients levels before and after taking the drug. \n",
    "\n",
    "In this case the samples are dependent because each sample came from the same person.\n",
    "\n",
    "$$\n",
    "\\large \\mu_{\\text{diff}} \\in \\bar{d} \\pm t_{n-1, \\alpha/2} * \\frac{s_d}{\\sqrt{n}}\n",
    "$$"
   ]
  },
  {
   "cell_type": "code",
   "execution_count": 64,
   "metadata": {},
   "outputs": [
    {
     "data": {
      "text/html": [
       "<div>\n",
       "<style scoped>\n",
       "    .dataframe tbody tr th:only-of-type {\n",
       "        vertical-align: middle;\n",
       "    }\n",
       "\n",
       "    .dataframe tbody tr th {\n",
       "        vertical-align: top;\n",
       "    }\n",
       "\n",
       "    .dataframe thead th {\n",
       "        text-align: right;\n",
       "    }\n",
       "</style>\n",
       "<table border=\"1\" class=\"dataframe\">\n",
       "  <thead>\n",
       "    <tr style=\"text-align: right;\">\n",
       "      <th></th>\n",
       "      <th>Before</th>\n",
       "      <th>After</th>\n",
       "    </tr>\n",
       "    <tr>\n",
       "      <th>Patient</th>\n",
       "      <th></th>\n",
       "      <th></th>\n",
       "    </tr>\n",
       "  </thead>\n",
       "  <tbody>\n",
       "    <tr>\n",
       "      <th>1</th>\n",
       "      <td>2.0</td>\n",
       "      <td>1.7</td>\n",
       "    </tr>\n",
       "    <tr>\n",
       "      <th>2</th>\n",
       "      <td>1.4</td>\n",
       "      <td>1.7</td>\n",
       "    </tr>\n",
       "    <tr>\n",
       "      <th>3</th>\n",
       "      <td>1.3</td>\n",
       "      <td>1.8</td>\n",
       "    </tr>\n",
       "    <tr>\n",
       "      <th>4</th>\n",
       "      <td>1.1</td>\n",
       "      <td>1.3</td>\n",
       "    </tr>\n",
       "    <tr>\n",
       "      <th>5</th>\n",
       "      <td>1.8</td>\n",
       "      <td>1.7</td>\n",
       "    </tr>\n",
       "    <tr>\n",
       "      <th>6</th>\n",
       "      <td>1.6</td>\n",
       "      <td>1.5</td>\n",
       "    </tr>\n",
       "    <tr>\n",
       "      <th>7</th>\n",
       "      <td>1.5</td>\n",
       "      <td>1.6</td>\n",
       "    </tr>\n",
       "    <tr>\n",
       "      <th>8</th>\n",
       "      <td>0.7</td>\n",
       "      <td>1.7</td>\n",
       "    </tr>\n",
       "    <tr>\n",
       "      <th>9</th>\n",
       "      <td>0.9</td>\n",
       "      <td>1.7</td>\n",
       "    </tr>\n",
       "    <tr>\n",
       "      <th>10</th>\n",
       "      <td>1.5</td>\n",
       "      <td>2.4</td>\n",
       "    </tr>\n",
       "  </tbody>\n",
       "</table>\n",
       "</div>"
      ],
      "text/plain": [
       "         Before  After\n",
       "Patient               \n",
       "1           2.0    1.7\n",
       "2           1.4    1.7\n",
       "3           1.3    1.8\n",
       "4           1.1    1.3\n",
       "5           1.8    1.7\n",
       "6           1.6    1.5\n",
       "7           1.5    1.6\n",
       "8           0.7    1.7\n",
       "9           0.9    1.7\n",
       "10          1.5    2.4"
      ]
     },
     "execution_count": 64,
     "metadata": {},
     "output_type": "execute_result"
    }
   ],
   "source": [
    "data = pd.read_csv('data/mean_diff_dependent.csv', index_col='Patient')\n",
    "data"
   ]
  },
  {
   "cell_type": "code",
   "execution_count": 65,
   "metadata": {},
   "outputs": [
    {
     "data": {
      "text/html": [
       "<div>\n",
       "<style scoped>\n",
       "    .dataframe tbody tr th:only-of-type {\n",
       "        vertical-align: middle;\n",
       "    }\n",
       "\n",
       "    .dataframe tbody tr th {\n",
       "        vertical-align: top;\n",
       "    }\n",
       "\n",
       "    .dataframe thead th {\n",
       "        text-align: right;\n",
       "    }\n",
       "</style>\n",
       "<table border=\"1\" class=\"dataframe\">\n",
       "  <thead>\n",
       "    <tr style=\"text-align: right;\">\n",
       "      <th></th>\n",
       "      <th>Before</th>\n",
       "      <th>After</th>\n",
       "      <th>Difference</th>\n",
       "    </tr>\n",
       "    <tr>\n",
       "      <th>Patient</th>\n",
       "      <th></th>\n",
       "      <th></th>\n",
       "      <th></th>\n",
       "    </tr>\n",
       "  </thead>\n",
       "  <tbody>\n",
       "    <tr>\n",
       "      <th>1</th>\n",
       "      <td>2.0</td>\n",
       "      <td>1.7</td>\n",
       "      <td>-0.3</td>\n",
       "    </tr>\n",
       "    <tr>\n",
       "      <th>2</th>\n",
       "      <td>1.4</td>\n",
       "      <td>1.7</td>\n",
       "      <td>0.3</td>\n",
       "    </tr>\n",
       "    <tr>\n",
       "      <th>3</th>\n",
       "      <td>1.3</td>\n",
       "      <td>1.8</td>\n",
       "      <td>0.5</td>\n",
       "    </tr>\n",
       "    <tr>\n",
       "      <th>4</th>\n",
       "      <td>1.1</td>\n",
       "      <td>1.3</td>\n",
       "      <td>0.2</td>\n",
       "    </tr>\n",
       "    <tr>\n",
       "      <th>5</th>\n",
       "      <td>1.8</td>\n",
       "      <td>1.7</td>\n",
       "      <td>-0.1</td>\n",
       "    </tr>\n",
       "    <tr>\n",
       "      <th>6</th>\n",
       "      <td>1.6</td>\n",
       "      <td>1.5</td>\n",
       "      <td>-0.1</td>\n",
       "    </tr>\n",
       "    <tr>\n",
       "      <th>7</th>\n",
       "      <td>1.5</td>\n",
       "      <td>1.6</td>\n",
       "      <td>0.1</td>\n",
       "    </tr>\n",
       "    <tr>\n",
       "      <th>8</th>\n",
       "      <td>0.7</td>\n",
       "      <td>1.7</td>\n",
       "      <td>1.0</td>\n",
       "    </tr>\n",
       "    <tr>\n",
       "      <th>9</th>\n",
       "      <td>0.9</td>\n",
       "      <td>1.7</td>\n",
       "      <td>0.8</td>\n",
       "    </tr>\n",
       "    <tr>\n",
       "      <th>10</th>\n",
       "      <td>1.5</td>\n",
       "      <td>2.4</td>\n",
       "      <td>0.9</td>\n",
       "    </tr>\n",
       "  </tbody>\n",
       "</table>\n",
       "</div>"
      ],
      "text/plain": [
       "         Before  After  Difference\n",
       "Patient                           \n",
       "1           2.0    1.7        -0.3\n",
       "2           1.4    1.7         0.3\n",
       "3           1.3    1.8         0.5\n",
       "4           1.1    1.3         0.2\n",
       "5           1.8    1.7        -0.1\n",
       "6           1.6    1.5        -0.1\n",
       "7           1.5    1.6         0.1\n",
       "8           0.7    1.7         1.0\n",
       "9           0.9    1.7         0.8\n",
       "10          1.5    2.4         0.9"
      ]
     },
     "execution_count": 65,
     "metadata": {},
     "output_type": "execute_result"
    }
   ],
   "source": [
    "# note the order: After - Before \n",
    "# positive values indicate an increase\n",
    "diff = data.After - data.Before\n",
    "data['Difference'] = diff\n",
    "data"
   ]
  },
  {
   "cell_type": "code",
   "execution_count": 66,
   "metadata": {},
   "outputs": [
    {
     "name": "stdout",
     "output_type": "stream",
     "text": [
      "The mean of the differences is 0.330\n",
      "The standard deviation of the differences is 0.455\n"
     ]
    }
   ],
   "source": [
    "n = len(data)\n",
    "\n",
    "mean_diff = diff.mean()\n",
    "print(f'The mean of the differences is {mean_diff:.3f}')\n",
    "\n",
    "std_diff = diff.std()\n",
    "print(f'The standard deviation of the differences is {std_diff:.3f}')"
   ]
  },
  {
   "cell_type": "markdown",
   "metadata": {},
   "source": [
    "We can calculate the standard error manually by doing \n",
    "```python\n",
    "std_diff / np.sqrt(n)\n",
    "```\n",
    "or we can just let pandas do it:\n",
    "```python\n",
    "data.Difference.sem()\n",
    "```\n",
    "either way the choice is yours I'm going to keep using the first example to illustrate the formula as clearly as possible."
   ]
  },
  {
   "cell_type": "code",
   "execution_count": 67,
   "metadata": {},
   "outputs": [],
   "source": [
    "assert std_diff / np.sqrt(n) == data.Difference.sem()"
   ]
  },
  {
   "cell_type": "code",
   "execution_count": 68,
   "metadata": {},
   "outputs": [
    {
     "name": "stdout",
     "output_type": "stream",
     "text": [
      "The t-score for a 90% CI is 1.83\n"
     ]
    }
   ],
   "source": [
    "# we'll calculate a 90% CI\n",
    "α = 0.1\n",
    "\n",
    "t_score = t.ppf(1-α/2, n-1)\n",
    "print(f'The t-score for a {int((1-α)*100)}% CI is {t_score:.2f}')"
   ]
  },
  {
   "cell_type": "code",
   "execution_count": 69,
   "metadata": {},
   "outputs": [
    {
     "name": "stdout",
     "output_type": "stream",
     "text": [
      "The 90% CI ranges from 0.066 to 0.594\n",
      "\n",
      "Since all the values in the interval are positive\n",
      "we can say with 90% confidence that the drug works.\n",
      "\n",
      "If you try with a 95% CI we can still make the assumption\n",
      "that the drug actually does increase magnesium levels.\n",
      "\n",
      "But we can't say anything with 99% confidence since part \n",
      "of the interval is negative.\n"
     ]
    }
   ],
   "source": [
    "lower_bound = mean_diff - t_score * std_diff / np.sqrt(n)\n",
    "upper_bound = mean_diff + t_score * std_diff / np.sqrt(n)\n",
    "\n",
    "print(f'The {int((1-α)*100)}% CI ranges from {lower_bound:,.3f} to {upper_bound:,.3f}')\n",
    "\n",
    "print('''\n",
    "Since all the values in the interval are positive\n",
    "we can say with 90% confidence that the drug works.\n",
    "\n",
    "If you try with a 95% CI we can still make the assumption\n",
    "that the drug actually does increase magnesium levels.\n",
    "\n",
    "But we can't say anything with 99% confidence since part \n",
    "of the interval is negative.''')"
   ]
  },
  {
   "cell_type": "markdown",
   "metadata": {},
   "source": [
    "## CI - difference of means for independent samples with known population variances\n",
    "\n",
    "In this case were comparing the means of two independent groups (let's say the average test scores between management students and engineering students) and we want to see if there's a significant difference in the means ie if one group does better on average than the other.\n",
    "\n",
    "Assume the dataset looks like:\n",
    "\n",
    "<table>\n",
    "    <thead>\n",
    "        <td></td>\n",
    "        <td>Engineering</td>\n",
    "        <td>Management</td>\n",
    "    </thead>\n",
    "    <tbody>\n",
    "        <tr>\n",
    "            <td>Size</td>\n",
    "            <td>100</td>\n",
    "            <td>70</td>\n",
    "        </tr>\n",
    "        <tr>\n",
    "            <td>Sample Mean</td>\n",
    "            <td>58</td>\n",
    "            <td>65</td>\n",
    "        </tr>\n",
    "        <tr>\n",
    "            <td>Population Std</td>\n",
    "            <td>10</td>\n",
    "            <td>5</td>\n",
    "        </tr>\n",
    "    </tbody>\n",
    "</table>\n",
    "\n",
    "The variance for the differnece in means is calculated by:\n",
    "$$\n",
    "\\large \\sigma_{\\text{diff}}^2 = \\sqrt{\\frac{\\sigma_x^2}{n_x} + \\frac{\\sigma_y^2}{n_y}}\n",
    "$$\n",
    "\n",
    "The CI is calculated by:\n",
    "$$\n",
    "\\large \\mu_{\\text{diff}} \\in (\\bar{x} - \\bar{y}) \\pm z_{\\alpha/2} * \\sqrt{\\sigma_{\\text{diff}}^2}\n",
    "$$"
   ]
  },
  {
   "cell_type": "code",
   "execution_count": 70,
   "metadata": {},
   "outputs": [],
   "source": [
    "num_E = 100\n",
    "num_M = 70\n",
    "\n",
    "mean_E = 58\n",
    "mean_M = 65\n",
    "\n",
    "σ_E = 10\n",
    "σ_M = 5"
   ]
  },
  {
   "cell_type": "code",
   "execution_count": 71,
   "metadata": {},
   "outputs": [
    {
     "name": "stdout",
     "output_type": "stream",
     "text": [
      "Difference between Engineering and Management: -7\n",
      "z-score for a 95% CI: 1.96\n"
     ]
    }
   ],
   "source": [
    "# 95% CI\n",
    "α = 0.05\n",
    "\n",
    "mean_diff = mean_E - mean_M\n",
    "print('Difference between Engineering and Management:', mean_diff)\n",
    "\n",
    "z_score = norm.ppf(1 - α/2)\n",
    "print(f'z-score for a {int((1-α)*100)}% CI: {z_score:.2f}')"
   ]
  },
  {
   "cell_type": "code",
   "execution_count": 72,
   "metadata": {},
   "outputs": [
    {
     "name": "stdout",
     "output_type": "stream",
     "text": [
      "The 95% CI ranges from -9.283 to -4.717\n",
      "\n",
      "This tells us that we are confident that 95%\n",
      "of the time Engineering students score 4.717\n",
      "to 9.283 points less on exams than management\n",
      "students.\n"
     ]
    }
   ],
   "source": [
    "lower_bound = mean_diff - z_score * np.sqrt(σ_E**2/num_E + σ_M**2/num_M)\n",
    "upper_bound = mean_diff + z_score * np.sqrt(σ_E**2/num_E + σ_M**2/num_M)\n",
    "\n",
    "print(f'The {int((1-α)*100)}% CI ranges from {lower_bound:,.3f} to {upper_bound:,.3f}')\n",
    "\n",
    "print(f'''\n",
    "This tells us that we are confident that {int((1-α)*100)}%\n",
    "of the time Engineering students score {-upper_bound:,.3f}\n",
    "to {-lower_bound:,.3f} points less on exams than management\n",
    "students.''')"
   ]
  },
  {
   "cell_type": "markdown",
   "metadata": {},
   "source": [
    "## CI - difference of two means for independent samples with unknown variances but assumed to be equal\n",
    "\n",
    "If we're comparing the means of two populations where we don't know the individual pop. variances but we can make the assumption that they're equal then we pool the variances. \n",
    "\n",
    "__pooled sample variance:__\n",
    "$$\n",
    "\\large s_p^2 = \\frac{(n_x - 1)s_x^2 + (n_y - 1)s_y^2}{n_x + n_y - 2}\n",
    "$$\n",
    "\n",
    "If there aren't a lot of samples we use a t-statistic with <br> $n_x + n_y - 2$ degrees of freedom and the interval is computed by:\n",
    "\n",
    "$$\n",
    "\\large \\mu_{\\text{diff}} \\in (\\bar{x} - \\bar{y}) \\pm t_{n_x + n_y - 2, \\alpha/2} * \\sqrt{\\frac{s_p^2}{n_x} + \\frac{s_p^2}{n_y}}\n",
    "$$\n",
    "\n",
    "In the example we're comparing the price of apples in New York vs LA."
   ]
  },
  {
   "cell_type": "code",
   "execution_count": 73,
   "metadata": {},
   "outputs": [
    {
     "data": {
      "text/html": [
       "<div>\n",
       "<style scoped>\n",
       "    .dataframe tbody tr th:only-of-type {\n",
       "        vertical-align: middle;\n",
       "    }\n",
       "\n",
       "    .dataframe tbody tr th {\n",
       "        vertical-align: top;\n",
       "    }\n",
       "\n",
       "    .dataframe thead th {\n",
       "        text-align: right;\n",
       "    }\n",
       "</style>\n",
       "<table border=\"1\" class=\"dataframe\">\n",
       "  <thead>\n",
       "    <tr style=\"text-align: right;\">\n",
       "      <th></th>\n",
       "      <th>NY apples</th>\n",
       "      <th>LA apples</th>\n",
       "    </tr>\n",
       "  </thead>\n",
       "  <tbody>\n",
       "    <tr>\n",
       "      <th>0</th>\n",
       "      <td>3.80</td>\n",
       "      <td>3.02</td>\n",
       "    </tr>\n",
       "    <tr>\n",
       "      <th>1</th>\n",
       "      <td>3.76</td>\n",
       "      <td>3.22</td>\n",
       "    </tr>\n",
       "    <tr>\n",
       "      <th>2</th>\n",
       "      <td>3.87</td>\n",
       "      <td>3.24</td>\n",
       "    </tr>\n",
       "    <tr>\n",
       "      <th>3</th>\n",
       "      <td>3.99</td>\n",
       "      <td>3.02</td>\n",
       "    </tr>\n",
       "    <tr>\n",
       "      <th>4</th>\n",
       "      <td>4.02</td>\n",
       "      <td>3.06</td>\n",
       "    </tr>\n",
       "    <tr>\n",
       "      <th>5</th>\n",
       "      <td>4.25</td>\n",
       "      <td>3.15</td>\n",
       "    </tr>\n",
       "    <tr>\n",
       "      <th>6</th>\n",
       "      <td>4.13</td>\n",
       "      <td>3.81</td>\n",
       "    </tr>\n",
       "    <tr>\n",
       "      <th>7</th>\n",
       "      <td>3.98</td>\n",
       "      <td>3.44</td>\n",
       "    </tr>\n",
       "    <tr>\n",
       "      <th>8</th>\n",
       "      <td>3.99</td>\n",
       "      <td>NaN</td>\n",
       "    </tr>\n",
       "    <tr>\n",
       "      <th>9</th>\n",
       "      <td>3.62</td>\n",
       "      <td>NaN</td>\n",
       "    </tr>\n",
       "  </tbody>\n",
       "</table>\n",
       "</div>"
      ],
      "text/plain": [
       "   NY apples  LA apples\n",
       "0       3.80       3.02\n",
       "1       3.76       3.22\n",
       "2       3.87       3.24\n",
       "3       3.99       3.02\n",
       "4       4.02       3.06\n",
       "5       4.25       3.15\n",
       "6       4.13       3.81\n",
       "7       3.98       3.44\n",
       "8       3.99        NaN\n",
       "9       3.62        NaN"
      ]
     },
     "execution_count": 73,
     "metadata": {},
     "output_type": "execute_result"
    }
   ],
   "source": [
    "df = pd.read_csv('data/apples.csv')\n",
    "df"
   ]
  },
  {
   "cell_type": "code",
   "execution_count": 80,
   "metadata": {},
   "outputs": [
    {
     "name": "stdout",
     "output_type": "stream",
     "text": [
      "Mean price of apples in NY: $3.94\n",
      "Mean price of apples in LA: $3.25\n",
      "\n",
      "Difference in mean price of apples in NY vs LA: $0.70\n",
      "\n",
      "Sample variance of price of apples in NY: $^2 0.03\n",
      "Sample variance of price of apples in LA: $^2 0.07\n",
      "\n",
      "Pooled variance: $^2 0.05\n"
     ]
    }
   ],
   "source": [
    "# 95% CI\n",
    "α = 0.05\n",
    "\n",
    "num_NY = 10\n",
    "num_LA = 8\n",
    "\n",
    "mean_NY = df['NY apples'].mean()\n",
    "mean_LA = df['LA apples'].mean()\n",
    "print(f'Mean price of apples in NY: ${mean_NY:.2f}')\n",
    "print(f'Mean price of apples in LA: ${mean_LA:.2f}\\n')\n",
    "\n",
    "mean_diff = mean_NY - mean_LA\n",
    "print(f'Difference in mean price of apples in NY vs LA: ${mean_diff:.2f}\\n')\n",
    "\n",
    "var_NY = df['NY apples'].var()\n",
    "var_LA = df['LA apples'].var()\n",
    "print(f'Sample variance of price of apples in NY: $^2 {var_NY:.2f}')\n",
    "print(f'Sample variance of price of apples in LA: $^2 {var_LA:.2f}\\n')\n",
    "\n",
    "pooled_var = ((num_NY - 1)*var_NY + (num_LA - 1)*var_LA) / (num_NY + num_LA - 2)\n",
    "print(f'Pooled variance: $^2 {pooled_var:.2f}')"
   ]
  },
  {
   "cell_type": "code",
   "execution_count": 81,
   "metadata": {},
   "outputs": [
    {
     "data": {
      "text/plain": [
       "2.1199052992210112"
      ]
     },
     "execution_count": 81,
     "metadata": {},
     "output_type": "execute_result"
    }
   ],
   "source": [
    "t_score = t.ppf(1-α/2, num_NY+num_LA-2)\n",
    "t_score"
   ]
  },
  {
   "cell_type": "code",
   "execution_count": 82,
   "metadata": {},
   "outputs": [
    {
     "name": "stdout",
     "output_type": "stream",
     "text": [
      "The 95% CI ranges from $0.47 to $0.92\n",
      "\n",
      "We have 95% confidence that apples in NY\n",
      "are $0.47 to $0.92 more expensive than\n",
      "apples in LA.\n"
     ]
    }
   ],
   "source": [
    "lower_bound = mean_diff - t_score * np.sqrt(pooled_var/num_NY + pooled_var/num_LA)\n",
    "upper_bound = mean_diff + t_score * np.sqrt(pooled_var/num_NY + pooled_var/num_LA)\n",
    "\n",
    "print(f'The {int((1-α)*100)}% CI ranges from ${lower_bound:.2f} to ${upper_bound:.2f}')\n",
    "print(f'''\n",
    "We have {int((1-α)*100)}% confidence that apples in NY\n",
    "are ${lower_bound:.2f} to ${upper_bound:.2f} more expensive than\n",
    "apples in LA.''')"
   ]
  },
  {
   "cell_type": "code",
   "execution_count": null,
   "metadata": {},
   "outputs": [],
   "source": []
  }
 ],
 "metadata": {
  "kernelspec": {
   "display_name": "Python 3",
   "language": "python",
   "name": "python3"
  },
  "language_info": {
   "codemirror_mode": {
    "name": "ipython",
    "version": 3
   },
   "file_extension": ".py",
   "mimetype": "text/x-python",
   "name": "python",
   "nbconvert_exporter": "python",
   "pygments_lexer": "ipython3",
   "version": "3.7.1"
  }
 },
 "nbformat": 4,
 "nbformat_minor": 2
}
