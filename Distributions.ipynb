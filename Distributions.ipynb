{
 "cells": [
  {
   "cell_type": "code",
   "execution_count": 1,
   "metadata": {},
   "outputs": [],
   "source": [
    "%matplotlib inline\n",
    "\n",
    "import numpy as np\n",
    "import pandas as pd\n",
    "from math import factorial\n",
    "import matplotlib.pyplot as plt\n",
    "from matplotlib import rcParams\n",
    "import seaborn as sns\n",
    "from scipy import stats as scps\n",
    "from ipywidgets import interact, IntSlider, FloatSlider\n",
    "from colorama import Fore\n",
    "from warnings import filterwarnings"
   ]
  },
  {
   "cell_type": "code",
   "execution_count": 2,
   "metadata": {},
   "outputs": [],
   "source": [
    "rcParams['figure.figsize'] = (20, 6)\n",
    "props = dict(boxstyle='round', facecolor='wheat', alpha=0.5)\n",
    "filterwarnings('ignore')"
   ]
  },
  {
   "cell_type": "markdown",
   "metadata": {},
   "source": [
    "# Discrete distributions"
   ]
  },
  {
   "cell_type": "markdown",
   "metadata": {},
   "source": [
    "## Uniform distribution: $X \\sim U(a, b)$\n",
    "\n",
    "$X$ is the random variable that takes on discrete values between $a$ and $b$ with equal probability.\n",
    "\n",
    "### Probability\n",
    "$P(X=k)=\\frac{1}{b-a+1}\\;\\textrm{ for } k = a, ..., b$\n",
    "\n",
    "### Expectation\n",
    "$E(X) = \\frac{a+b}{2}$\n",
    "\n",
    "### Variance\n",
    "$V(X) = \\frac{(b-a+1)^2 - 1}{12}$"
   ]
  },
  {
   "cell_type": "code",
   "execution_count": 3,
   "metadata": {},
   "outputs": [
    {
     "data": {
      "application/vnd.jupyter.widget-view+json": {
       "model_id": "8f218b92bab84a9bbadbc306f0ccd067",
       "version_major": 2,
       "version_minor": 0
      },
      "text/plain": [
       "interactive(children=(IntSlider(value=3, description='a', max=5, min=1), IntSlider(value=7, description='b', m…"
      ]
     },
     "metadata": {},
     "output_type": "display_data"
    }
   ],
   "source": [
    "@interact\n",
    "def plot_uniform(a=(1,5), b=(5,10)):\n",
    "    k = np.arange(a, b+1)\n",
    "    pmf = np.ones_like(k) / (b - a + 1)\n",
    "    plt.xticks(np.arange(a,b+1))\n",
    "    sns.barplot(k, pmf, color='cadetblue')\n",
    "    text = f'E(X) = {(a+b)/2:.2f}\\nV(X) = {((b-a+1)**2-1)/12:.2f}'\n",
    "    plt.text(0.01, 0.95, text, transform=plt.gca().transAxes, fontsize=18,\n",
    "        verticalalignment='top', bbox=props)\n",
    "    plt.grid(ls='dashed')\n",
    "    plt.title(f'Uniform distribution from {a} to {b}', fontsize=25)\n",
    "    plt.ylim(0, 1)\n",
    "    plt.show()"
   ]
  },
  {
   "cell_type": "markdown",
   "metadata": {},
   "source": [
    "## Binomial distribution: $X \\sim B(n, p)$\n",
    "\n",
    "$X$ is the random variable that counts the number of successes from $n$ independent attempts with the same chance for success $p$.\n",
    "\n",
    "### Probability\n",
    "$P(X=k)={n \\choose k} p^k (1-p)^{n-k}\\;\\textrm{ for } k = 0, 1, 2, ..., n$\n",
    "\n",
    "### Expectation\n",
    "$E(X) = np$\n",
    "\n",
    "### Variance\n",
    "$V(X) = np(1-p)$"
   ]
  },
  {
   "cell_type": "code",
   "execution_count": 4,
   "metadata": {},
   "outputs": [],
   "source": [
    "from scipy.stats import binom"
   ]
  },
  {
   "cell_type": "code",
   "execution_count": 5,
   "metadata": {},
   "outputs": [
    {
     "data": {
      "application/vnd.jupyter.widget-view+json": {
       "model_id": "47d593fa7f574892b54f880e9bda3fa9",
       "version_major": 2,
       "version_minor": 0
      },
      "text/plain": [
       "interactive(children=(IntSlider(value=15, description='n', max=30), FloatSlider(value=0.5, description='p', ma…"
      ]
     },
     "metadata": {},
     "output_type": "display_data"
    }
   ],
   "source": [
    "@interact\n",
    "def plot_binom(n=(0,30), p=(0.0,1.0, 0.01)):\n",
    "    dist = binom(n, p)\n",
    "    x = np.arange(n+1)\n",
    "    pmf = dist.pmf(x)\n",
    "    sns.barplot(x, pmf, color='cadetblue')\n",
    "    text = f'E(X) = {n*p:.2f}\\nV(X) = {n*p*(1-p):.2f}'\n",
    "    plt.text(0.01, 0.95, text, transform=plt.gca().transAxes, fontsize=18,\n",
    "        verticalalignment='top', bbox=props)\n",
    "    plt.title(f'Binomial Distribution with n = {n}, p = {p}', fontsize=25)\n",
    "    plt.grid(ls='dashed')\n",
    "    plt.show()"
   ]
  },
  {
   "cell_type": "markdown",
   "metadata": {},
   "source": [
    "## Hypergeometric distribution: $X \\sim HG(M, n, N)$\n",
    "\n",
    "$X$ is the random variable that counts the number of special elements taken from choosing $N$ times without returning from a finite population of size $M$ which has $n$ specials.\n",
    "\n",
    "### Probability\n",
    "$P(X=k)=\\large{\\frac{{n \\choose k}{M-n \\choose N-k}}{M \\choose N}} \\;\\textrm{ for } k =\\textrm{max}(0,N-(M-n)),...,\\textrm{min}(N, n)$\n",
    "\n",
    "### Expectation\n",
    "$E(X) = N\\frac{n}{M}$\n",
    "\n",
    "### Variance\n",
    "$V(X) = \\frac{M-N}{M-1}N\\frac{n}{M}(1 - \\frac{n}{M})$\n",
    "\n",
    "<hr>\n",
    "\n",
    "__I know the parameter names are confusing but it's meant to correspond with scipy's documentation so take it up with them :)__"
   ]
  },
  {
   "cell_type": "code",
   "execution_count": 6,
   "metadata": {},
   "outputs": [],
   "source": [
    "from scipy.stats import hypergeom"
   ]
  },
  {
   "cell_type": "code",
   "execution_count": 7,
   "metadata": {},
   "outputs": [
    {
     "data": {
      "application/vnd.jupyter.widget-view+json": {
       "model_id": "eb6afdfd88654840a75d875f6b9f9ca0",
       "version_major": 2,
       "version_minor": 0
      },
      "text/plain": [
       "interactive(children=(IntSlider(value=50, continuous_update=False, description='M', min=50), IntSlider(value=3…"
      ]
     },
     "metadata": {},
     "output_type": "display_data"
    }
   ],
   "source": [
    "def plot_hypergeom(M, n, N):\n",
    "    if (M < n or M < N):\n",
    "        print(Fore.RED + 'Error: Both n and N must be less than or equal to M')\n",
    "        return\n",
    "    dist = hypergeom(M, n, N)\n",
    "    k = np.arange(max(0, N-M+n), min(n, N)+1)\n",
    "    \n",
    "    pmf = dist.pmf(k)\n",
    "    sns.barplot(k, pmf, color='cadetblue')\n",
    "    text = f'E(X) = {N*n/M:.2f}\\nV(X) = {(M-N)/(M-1)*N*n/M*(1-n/M):.2f}'\n",
    "    plt.text(0.01, 0.95, text, transform=plt.gca().transAxes, fontsize=18,\n",
    "        verticalalignment='top', bbox=props)\n",
    "    plt.title(f'Hypergeometric distribution with {M} elements, {n} specials, and choosing {N} times.', \n",
    "              fontsize=20)\n",
    "    plt.grid(ls='dashed')\n",
    "    plt.show()\n",
    "\n",
    "interact(plot_hypergeom, M=IntSlider(50, 50, 100,continuous_update=False), \n",
    "         n=IntSlider(30, 0, 50, continuous_update=False), \n",
    "         N=IntSlider(30, 0, 50, continuous_update=False));"
   ]
  },
  {
   "cell_type": "markdown",
   "metadata": {},
   "source": [
    "## Geometric distribution: $X \\sim G(p)$\n",
    "\n",
    "$X$ is the random variable that counts the number of attempts up until and including the first success in an independent series of attempts with the same chance for success $p$.\n",
    "\n",
    "### Probability\n",
    "$P(X=k)=(1-p)^{k-1}p\\;\\textrm{ for } k = 1, 2, ...$\n",
    "\n",
    "### Expectation\n",
    "$E(X) = \\frac{1}{p}$\n",
    "\n",
    "### Variance\n",
    "$V(X) = \\frac{1-p}{p^2}$"
   ]
  },
  {
   "cell_type": "code",
   "execution_count": 8,
   "metadata": {},
   "outputs": [],
   "source": [
    "from scipy.stats import geom"
   ]
  },
  {
   "cell_type": "code",
   "execution_count": 9,
   "metadata": {},
   "outputs": [
    {
     "data": {
      "application/vnd.jupyter.widget-view+json": {
       "model_id": "eb89555d07064c9eb64e099f3191a551",
       "version_major": 2,
       "version_minor": 0
      },
      "text/plain": [
       "interactive(children=(FloatSlider(value=0.1, continuous_update=False, description='p', max=1.0, step=0.01), Ou…"
      ]
     },
     "metadata": {},
     "output_type": "display_data"
    }
   ],
   "source": [
    "def plot_geometric(p):\n",
    "    dist = geom(p)\n",
    "    k = np.arange(1, 50)\n",
    "    pmf = dist.pmf(k)\n",
    "    sns.barplot(k, pmf, color='cadetblue')\n",
    "    plt.xticks(rotation=55)\n",
    "    if p != 0:\n",
    "        text = f'E(X) = {1/p:.2f}\\nV(X) = {(1-p)/p**2:.2f}'\n",
    "        plt.text(0.88, 0.95, text, transform=plt.gca().transAxes, fontsize=18,\n",
    "            verticalalignment='top', bbox=props)\n",
    "    plt.grid(ls='dashed')\n",
    "    plt.title(f\"Geometric distribution with parameter p = {p}\", fontsize=25)\n",
    "    plt.show()\n",
    "    \n",
    "interact(plot_geometric,p=FloatSlider(value=0.1, min=0, max=1, step=0.01, continuous_update=False));"
   ]
  },
  {
   "cell_type": "markdown",
   "metadata": {},
   "source": [
    "## Negative binomial distribution: $X \\sim NB(n,p)$\n",
    "\n",
    "$X$ is the random variable that counts the number of attempts up until and including the $n^{th}$ success, in an independent series of attempts with the same chance for success $p$.\n",
    "\n",
    "### Probability\n",
    "$P(X=k)=\\large{{k-1 \\choose n-1} p^n (1-p)^{k-n}} \\;\\textrm{ for } k = n, n+1, n+2, ...$\n",
    "\n",
    "### Expectation\n",
    "$E(X) = \\frac{n}{p}$\n",
    "\n",
    "### Variance\n",
    "$V(X) = n\\frac{1-p}{p^2}$"
   ]
  },
  {
   "cell_type": "code",
   "execution_count": 10,
   "metadata": {},
   "outputs": [],
   "source": [
    "from scipy.stats import nbinom"
   ]
  },
  {
   "cell_type": "code",
   "execution_count": 11,
   "metadata": {},
   "outputs": [
    {
     "data": {
      "application/vnd.jupyter.widget-view+json": {
       "model_id": "811ef300d142427a8b88ab83a1fc58de",
       "version_major": 2,
       "version_minor": 0
      },
      "text/plain": [
       "interactive(children=(IntSlider(value=25, continuous_update=False, description='n', max=50, min=1), FloatSlide…"
      ]
     },
     "metadata": {},
     "output_type": "display_data"
    }
   ],
   "source": [
    "def plot_negbinom(n, p):\n",
    "    dist = nbinom(n, p, loc=n)\n",
    "    k = np.arange(n, n+70)\n",
    "    pmf = dist.pmf(k)\n",
    "    \n",
    "    plt.title(f\"Negative binomial distribution with parameters n = {n}, p = {p}\", fontsize=25)\n",
    "    plt.xticks(rotation=55)\n",
    "    plt.grid(ls='dashed')\n",
    "    sns.barplot(k, pmf, color='cadetblue')\n",
    "    if p != 0:\n",
    "        text = f'E(X) = {n/p:.2f}\\nV(X) = {n*(1-p)/p**2:.2f}'\n",
    "        plt.text(0.01, 0.95, text, transform=plt.gca().transAxes, fontsize=18,\n",
    "            verticalalignment='top', bbox=props)\n",
    "    plt.show()\n",
    "\n",
    "interact(plot_negbinom, n=IntSlider(value=25, min=1, max=50, continuous_update=False),\n",
    "        p=FloatSlider(value=0.5, min=0, max=1, step=0.01, continuous_update=False));"
   ]
  },
  {
   "cell_type": "markdown",
   "metadata": {},
   "source": [
    "### Poisson distribution: $X \\sim P(\\lambda)$\n",
    "\n",
    "$X$ is the random variable that counts the number of appearances in a unit that come at a rate of $\\lambda$ per unit, independently from each other.\n",
    "\n",
    "### Probability\n",
    "$P(X=k) = \\large{e^{-\\lambda}\\frac{\\lambda^k}{k!}} \\;\\textrm{ for } k = 0, 1, 2, ...$\n",
    "\n",
    "### Expectation\n",
    "$E(X) = \\lambda$\n",
    "\n",
    "### Variance\n",
    "$V(X) = \\lambda$"
   ]
  },
  {
   "cell_type": "code",
   "execution_count": 12,
   "metadata": {},
   "outputs": [],
   "source": [
    "from scipy.stats import poisson"
   ]
  },
  {
   "cell_type": "code",
   "execution_count": 13,
   "metadata": {},
   "outputs": [
    {
     "data": {
      "application/vnd.jupyter.widget-view+json": {
       "model_id": "c00f8ec1c0d24884a6477e626600971c",
       "version_major": 2,
       "version_minor": 0
      },
      "text/plain": [
       "interactive(children=(FloatSlider(value=10.0, description='λ', max=20.0), Output()), _dom_classes=('widget-int…"
      ]
     },
     "metadata": {},
     "output_type": "display_data"
    }
   ],
   "source": [
    "def plot_poisson(λ):\n",
    "    dist = poisson(λ)\n",
    "    k = np.arange(0, int(λ)+21)\n",
    "    pmf = dist.pmf(k)\n",
    "    plt.title(f\"Poisson distribution with λ = {λ}\", fontsize=25)\n",
    "    plt.grid(ls='dashed')\n",
    "    sns.barplot(k, pmf, color='cadetblue')\n",
    "    text = f'E(X) = {λ}\\nV(X) = {λ}'\n",
    "    plt.text(0.88, 0.95, text, transform=plt.gca().transAxes, fontsize=18,\n",
    "        verticalalignment='top', bbox=props)\n",
    "    plt.show()\n",
    "\n",
    "interact(plot_poisson, λ=FloatSlider(value=10, min=0, max=20, step=0.1));"
   ]
  },
  {
   "cell_type": "markdown",
   "metadata": {},
   "source": [
    "# Continuous Distributions\n",
    "\n",
    "It's important to note that for continuous distributions the probability to get a single exact value is zero which is why we take the integral (area under the curve/pdf) for an interval that includes the value we want in order to get the probability."
   ]
  },
  {
   "cell_type": "markdown",
   "metadata": {},
   "source": [
    "## Normal Distribution: $X \\sim N(\\mu, \\sigma^2)$\n",
    "\n",
    "### Probability Density function\n",
    "$\\large{f(x) = \\frac{1}{\\sqrt{2\\pi \\sigma^2}} e^{\\frac{-(x - \\mu)^2}{2 \\sigma^2}}}$\n",
    "\n",
    "### Expectation\n",
    "$E(X) = \\mu$\n",
    "\n",
    "### Variance\n",
    "$V(X) = \\sigma^2$\n",
    "\n",
    "### Cumulative Density Function\n",
    "$P(X \\le k) = \\int_{-\\infty}^k f(x)dx$\n",
    "\n",
    "note: There is a special notation for $X \\sim N(0, 1)$ in which we say $X$ follows a __standard normal__ distribution. We also use $\\Phi$ i.e. $\\Phi(x) = P(X \\le x)$ to denote the CDF of a standard normal distribution."
   ]
  },
  {
   "cell_type": "code",
   "execution_count": 14,
   "metadata": {},
   "outputs": [],
   "source": [
    "from scipy.stats import norm"
   ]
  },
  {
   "cell_type": "code",
   "execution_count": 15,
   "metadata": {},
   "outputs": [
    {
     "data": {
      "application/vnd.jupyter.widget-view+json": {
       "model_id": "7c08dd236f0140cc82eaf6473eb67f6b",
       "version_major": 2,
       "version_minor": 0
      },
      "text/plain": [
       "interactive(children=(IntSlider(value=0, description='μ', max=50, min=-50), FloatSlider(value=10.0, descriptio…"
      ]
     },
     "metadata": {},
     "output_type": "display_data"
    }
   ],
   "source": [
    "@interact\n",
    "def plot_norm(μ=(-50, 50), σ=(0, 20, 0.5)):\n",
    "    dist = norm(μ, σ)\n",
    "    x = np.linspace(μ-3*σ, μ+3*σ, 100)\n",
    "    pdf = dist.pdf(x)\n",
    "    plt.xlim(-90, 90)\n",
    "    plt.plot(x, pdf)\n",
    "    plt.show()"
   ]
  },
  {
   "cell_type": "markdown",
   "metadata": {},
   "source": [
    "## T Distribution\n",
    "\n",
    "The T distribution is used as an approximation for the normal distribution when calculating statistics for a normally distributed population when the sample size is small. It looks like a normal distribution with fatter tails.\n",
    "\n",
    "### Probability Density Function\n",
    "\n",
    "The pdf is a complicated function that I don't feel is necessary to know. Those who are very curious can look it up.\n",
    "\n",
    "The parameters of the distribution are, like the normal distribution, the mean, standard deviation, and unlike the normal distribution, the [degrees of freedom](https://en.wikipedia.org/wiki/Degrees_of_freedom_(statistics)).\n",
    "\n",
    "In general the degrees of freedom are the number of samples in your dataset - 1. If you notice as the degrees of freedom increases the T distribution approximates the normal better and better."
   ]
  },
  {
   "cell_type": "code",
   "execution_count": 16,
   "metadata": {},
   "outputs": [],
   "source": [
    "from scipy.stats import t"
   ]
  },
  {
   "cell_type": "code",
   "execution_count": 17,
   "metadata": {},
   "outputs": [
    {
     "data": {
      "application/vnd.jupyter.widget-view+json": {
       "model_id": "13230c96a6bd4237838345bd26ca0c10",
       "version_major": 2,
       "version_minor": 0
      },
      "text/plain": [
       "interactive(children=(IntSlider(value=1, description='dof', max=30, min=1), Output()), _dom_classes=('widget-i…"
      ]
     },
     "metadata": {},
     "output_type": "display_data"
    }
   ],
   "source": [
    "# @interact\n",
    "def plot_t_vs_norm(dof=(1, 30)):\n",
    "    x = np.linspace(-4,4,100)\n",
    "    plt.title(f'T distribution with {dof} degrees of freedom', fontsize=20)\n",
    "    plt.plot(x, t.pdf(x, df=dof), label='t')\n",
    "    plt.plot(x, norm.pdf(x), label='normal')\n",
    "    plt.legend()\n",
    "    plt.show()\n",
    "\n",
    "interact(plot_t_vs_norm, dof=IntSlider(value=1, min=1, max=30));"
   ]
  },
  {
   "cell_type": "code",
   "execution_count": null,
   "metadata": {},
   "outputs": [],
   "source": []
  }
 ],
 "metadata": {
  "kernelspec": {
   "display_name": "Python 3",
   "language": "python",
   "name": "python3"
  },
  "language_info": {
   "codemirror_mode": {
    "name": "ipython",
    "version": 3
   },
   "file_extension": ".py",
   "mimetype": "text/x-python",
   "name": "python",
   "nbconvert_exporter": "python",
   "pygments_lexer": "ipython3",
   "version": "3.7.6"
  }
 },
 "nbformat": 4,
 "nbformat_minor": 4
}
